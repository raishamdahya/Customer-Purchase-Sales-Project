{
 "cells": [
  {
   "cell_type": "markdown",
   "metadata": {},
   "source": [
    "# Overview\n",
    "\n",
    "Overview\n",
    "For this assignment, we were given a sales dataset which contains data on a retail company that wants to understand the customer purchase behaviour (specifically, purchase amount) against various products of different categories.\n",
    "\n",
    "The data set also contains customer demographics (age, gender, marital status, city_type, stay_in_current_city), product details (product_id and product category) and total purchase_amount from last month.\n",
    "\n",
    "The purpose of this assignment is to build a model to predict the purchase amount of customer against various products which will help the company to create personalized offer for customers against different products.\n"
   ]
  },
  {
   "cell_type": "markdown",
   "metadata": {},
   "source": [
    "## Data\n",
    "\n",
    "| Variable\t                    | Description                                        |\n",
    "|-------------------------------|----------------------------------------------------|\n",
    "|``User_ID``                    |User ID                                             |\n",
    "|``Product_ID``                 |Product ID                                          |\n",
    "|``Gender``                     |Sex of User                                         |\n",
    "|``Age``                        |Age in bins                                         |\n",
    "|``Occupation``                 |Occupation (Masked)                                 |\n",
    "|``City_Category``              |Category of the City (A, B, C)                      |\n",
    "|``Stay_In_Current_City_Years`` |Number of years stay in current city                |\n",
    "|``Marital_Status``             |Marital Status                                      |\n",
    "|``Product_Category_1``         |Product Category (Masked)                           |\n",
    "|``Product_Category_2``         |Product may belongs to other category also (Masked) |\n",
    "|``Product_Category_3``         |Product may belongs to other category also (Masked) |\n",
    "|``Purchase``                   |Purchase Amount (Target Variable)                   |\n",
    "\n",
    "## Evaluation\n",
    "\n",
    "The root mean squared error (RMSE) will be used for model evaluation."
   ]
  },
  {
   "cell_type": "markdown",
   "metadata": {},
   "source": [
    "## Code"
   ]
  },
  {
   "cell_type": "code",
   "execution_count": 1,
   "metadata": {},
   "outputs": [],
   "source": [
    "import numpy as np\n",
    "import pandas as pd\n",
    "\n",
    "np.random.seed = 42"
   ]
  },
  {
   "cell_type": "markdown",
   "metadata": {},
   "source": [
    "Load the given dataset."
   ]
  },
  {
   "cell_type": "code",
   "execution_count": 2,
   "metadata": {},
   "outputs": [
    {
     "data": {
      "text/html": [
       "<div>\n",
       "<style scoped>\n",
       "    .dataframe tbody tr th:only-of-type {\n",
       "        vertical-align: middle;\n",
       "    }\n",
       "\n",
       "    .dataframe tbody tr th {\n",
       "        vertical-align: top;\n",
       "    }\n",
       "\n",
       "    .dataframe thead th {\n",
       "        text-align: right;\n",
       "    }\n",
       "</style>\n",
       "<table border=\"1\" class=\"dataframe\">\n",
       "  <thead>\n",
       "    <tr style=\"text-align: right;\">\n",
       "      <th></th>\n",
       "      <th>Age</th>\n",
       "      <th>City_Category</th>\n",
       "      <th>Gender</th>\n",
       "      <th>Marital_Status</th>\n",
       "      <th>Occupation</th>\n",
       "      <th>Product_Category_1</th>\n",
       "      <th>Product_Category_2</th>\n",
       "      <th>Product_Category_3</th>\n",
       "      <th>Product_ID</th>\n",
       "      <th>Purchase</th>\n",
       "      <th>Stay_In_Current_City_Years</th>\n",
       "      <th>User_ID</th>\n",
       "    </tr>\n",
       "  </thead>\n",
       "  <tbody>\n",
       "    <tr>\n",
       "      <th>0</th>\n",
       "      <td>0-17</td>\n",
       "      <td>A</td>\n",
       "      <td>F</td>\n",
       "      <td>0</td>\n",
       "      <td>10</td>\n",
       "      <td>1</td>\n",
       "      <td>6</td>\n",
       "      <td>14</td>\n",
       "      <td>394</td>\n",
       "      <td>15200.0</td>\n",
       "      <td>2</td>\n",
       "      <td>1000001</td>\n",
       "    </tr>\n",
       "    <tr>\n",
       "      <th>1</th>\n",
       "      <td>46-50</td>\n",
       "      <td>B</td>\n",
       "      <td>M</td>\n",
       "      <td>1</td>\n",
       "      <td>7</td>\n",
       "      <td>1</td>\n",
       "      <td>8</td>\n",
       "      <td>17</td>\n",
       "      <td>287</td>\n",
       "      <td>19215.0</td>\n",
       "      <td>2</td>\n",
       "      <td>1000004</td>\n",
       "    </tr>\n",
       "    <tr>\n",
       "      <th>2</th>\n",
       "      <td>26-35</td>\n",
       "      <td>A</td>\n",
       "      <td>M</td>\n",
       "      <td>1</td>\n",
       "      <td>20</td>\n",
       "      <td>1</td>\n",
       "      <td>2</td>\n",
       "      <td>5</td>\n",
       "      <td>214</td>\n",
       "      <td>15665.0</td>\n",
       "      <td>1</td>\n",
       "      <td>1000005</td>\n",
       "    </tr>\n",
       "    <tr>\n",
       "      <th>3</th>\n",
       "      <td>51-55</td>\n",
       "      <td>A</td>\n",
       "      <td>F</td>\n",
       "      <td>0</td>\n",
       "      <td>9</td>\n",
       "      <td>5</td>\n",
       "      <td>8</td>\n",
       "      <td>14</td>\n",
       "      <td>366</td>\n",
       "      <td>5378.0</td>\n",
       "      <td>1</td>\n",
       "      <td>1000006</td>\n",
       "    </tr>\n",
       "    <tr>\n",
       "      <th>4</th>\n",
       "      <td>51-55</td>\n",
       "      <td>A</td>\n",
       "      <td>F</td>\n",
       "      <td>0</td>\n",
       "      <td>9</td>\n",
       "      <td>2</td>\n",
       "      <td>3</td>\n",
       "      <td>4</td>\n",
       "      <td>521</td>\n",
       "      <td>13055.0</td>\n",
       "      <td>1</td>\n",
       "      <td>1000006</td>\n",
       "    </tr>\n",
       "  </tbody>\n",
       "</table>\n",
       "</div>"
      ],
      "text/plain": [
       "     Age City_Category Gender  Marital_Status  Occupation  Product_Category_1  \\\n",
       "0   0-17             A      F               0          10                   1   \n",
       "1  46-50             B      M               1           7                   1   \n",
       "2  26-35             A      M               1          20                   1   \n",
       "3  51-55             A      F               0           9                   5   \n",
       "4  51-55             A      F               0           9                   2   \n",
       "\n",
       "   Product_Category_2  Product_Category_3  Product_ID  Purchase  \\\n",
       "0                   6                  14         394   15200.0   \n",
       "1                   8                  17         287   19215.0   \n",
       "2                   2                   5         214   15665.0   \n",
       "3                   8                  14         366    5378.0   \n",
       "4                   3                   4         521   13055.0   \n",
       "\n",
       "  Stay_In_Current_City_Years  User_ID  \n",
       "0                          2  1000001  \n",
       "1                          2  1000004  \n",
       "2                          1  1000005  \n",
       "3                          1  1000006  \n",
       "4                          1  1000006  "
      ]
     },
     "execution_count": 2,
     "metadata": {},
     "output_type": "execute_result"
    }
   ],
   "source": [
    "data = pd.read_csv(\"sales_data.csv\")\n",
    "data.head()"
   ]
  },
  {
   "cell_type": "markdown",
   "metadata": {},
   "source": [
    "**Any missing values?**"
   ]
  },
  {
   "cell_type": "code",
   "execution_count": 3,
   "metadata": {},
   "outputs": [
    {
     "name": "stdout",
     "output_type": "stream",
     "text": [
      "<class 'pandas.core.frame.DataFrame'>\n",
      "RangeIndex: 166821 entries, 0 to 166820\n",
      "Data columns (total 12 columns):\n",
      "Age                           166821 non-null object\n",
      "City_Category                 166821 non-null object\n",
      "Gender                        166821 non-null object\n",
      "Marital_Status                166821 non-null int64\n",
      "Occupation                    166821 non-null int64\n",
      "Product_Category_1            166821 non-null int64\n",
      "Product_Category_2            166821 non-null int64\n",
      "Product_Category_3            166821 non-null int64\n",
      "Product_ID                    166821 non-null int64\n",
      "Purchase                      166821 non-null float64\n",
      "Stay_In_Current_City_Years    166821 non-null object\n",
      "User_ID                       166821 non-null int64\n",
      "dtypes: float64(1), int64(7), object(4)\n",
      "memory usage: 15.3+ MB\n"
     ]
    }
   ],
   "source": [
    "data.info()"
   ]
  },
  {
   "cell_type": "markdown",
   "metadata": {},
   "source": [
    "No missing values since the number of non-null values in each column is the same as the number of rows."
   ]
  },
  {
   "cell_type": "markdown",
   "metadata": {},
   "source": [
    "**Dropping attribute `User_ID`.**"
   ]
  },
  {
   "cell_type": "code",
   "execution_count": 4,
   "metadata": {},
   "outputs": [],
   "source": [
    "data = data.drop(\"User_ID\", axis=1)"
   ]
  },
  {
   "cell_type": "markdown",
   "metadata": {},
   "source": [
    "**Converting the following categorical attributes below to numerical values with the rule as below.**\n",
    "+ `Gender`: `F`:0, `M`:1\n",
    "+ `Age`: `0-17`:0, `18-25`:1, `26-35`:2, `36-45`:3, `46-50`:4, `51-55`:5, `55+`:6\n",
    "+ `Stay_In_Current_City_Years`: `0`:0, `1`:1, `2`:2, `3`:3, `4+`:4\n",
    "\n",
    "You may want to apply a `lambda` function to each row of a column in the dataframe. Some examples here may be helpful: https://thispointer.com/pandas-apply-apply-a-function-to-each-row-column-in-dataframe/"
   ]
  },
  {
   "cell_type": "code",
   "execution_count": 5,
   "metadata": {},
   "outputs": [],
   "source": [
    "data[\"Gender\"] = data[\"Gender\"].apply(lambda r: {'F':0, 'M':1}[r])\n",
    "data[\"Age\"] = data[\"Age\"].apply(lambda r: {'0-17':0, '18-25':1, '26-35':2, '36-45':3, '46-50':4, '51-55':5, '55+':6}[r])\n",
    "data[\"Stay_In_Current_City_Years\"] = data[\"Stay_In_Current_City_Years\"].apply(lambda r: {'0':0, '1':1, '2':2, '3':3, '4+':4}[r])"
   ]
  },
  {
   "cell_type": "code",
   "execution_count": 6,
   "metadata": {},
   "outputs": [
    {
     "data": {
      "text/html": [
       "<div>\n",
       "<style scoped>\n",
       "    .dataframe tbody tr th:only-of-type {\n",
       "        vertical-align: middle;\n",
       "    }\n",
       "\n",
       "    .dataframe tbody tr th {\n",
       "        vertical-align: top;\n",
       "    }\n",
       "\n",
       "    .dataframe thead th {\n",
       "        text-align: right;\n",
       "    }\n",
       "</style>\n",
       "<table border=\"1\" class=\"dataframe\">\n",
       "  <thead>\n",
       "    <tr style=\"text-align: right;\">\n",
       "      <th></th>\n",
       "      <th>Age</th>\n",
       "      <th>City_Category</th>\n",
       "      <th>Gender</th>\n",
       "      <th>Marital_Status</th>\n",
       "      <th>Occupation</th>\n",
       "      <th>Product_Category_1</th>\n",
       "      <th>Product_Category_2</th>\n",
       "      <th>Product_Category_3</th>\n",
       "      <th>Product_ID</th>\n",
       "      <th>Purchase</th>\n",
       "      <th>Stay_In_Current_City_Years</th>\n",
       "    </tr>\n",
       "  </thead>\n",
       "  <tbody>\n",
       "    <tr>\n",
       "      <th>0</th>\n",
       "      <td>0</td>\n",
       "      <td>A</td>\n",
       "      <td>0</td>\n",
       "      <td>0</td>\n",
       "      <td>10</td>\n",
       "      <td>1</td>\n",
       "      <td>6</td>\n",
       "      <td>14</td>\n",
       "      <td>394</td>\n",
       "      <td>15200.0</td>\n",
       "      <td>2</td>\n",
       "    </tr>\n",
       "    <tr>\n",
       "      <th>1</th>\n",
       "      <td>4</td>\n",
       "      <td>B</td>\n",
       "      <td>1</td>\n",
       "      <td>1</td>\n",
       "      <td>7</td>\n",
       "      <td>1</td>\n",
       "      <td>8</td>\n",
       "      <td>17</td>\n",
       "      <td>287</td>\n",
       "      <td>19215.0</td>\n",
       "      <td>2</td>\n",
       "    </tr>\n",
       "    <tr>\n",
       "      <th>2</th>\n",
       "      <td>2</td>\n",
       "      <td>A</td>\n",
       "      <td>1</td>\n",
       "      <td>1</td>\n",
       "      <td>20</td>\n",
       "      <td>1</td>\n",
       "      <td>2</td>\n",
       "      <td>5</td>\n",
       "      <td>214</td>\n",
       "      <td>15665.0</td>\n",
       "      <td>1</td>\n",
       "    </tr>\n",
       "    <tr>\n",
       "      <th>3</th>\n",
       "      <td>5</td>\n",
       "      <td>A</td>\n",
       "      <td>0</td>\n",
       "      <td>0</td>\n",
       "      <td>9</td>\n",
       "      <td>5</td>\n",
       "      <td>8</td>\n",
       "      <td>14</td>\n",
       "      <td>366</td>\n",
       "      <td>5378.0</td>\n",
       "      <td>1</td>\n",
       "    </tr>\n",
       "    <tr>\n",
       "      <th>4</th>\n",
       "      <td>5</td>\n",
       "      <td>A</td>\n",
       "      <td>0</td>\n",
       "      <td>0</td>\n",
       "      <td>9</td>\n",
       "      <td>2</td>\n",
       "      <td>3</td>\n",
       "      <td>4</td>\n",
       "      <td>521</td>\n",
       "      <td>13055.0</td>\n",
       "      <td>1</td>\n",
       "    </tr>\n",
       "  </tbody>\n",
       "</table>\n",
       "</div>"
      ],
      "text/plain": [
       "   Age City_Category  Gender  Marital_Status  Occupation  Product_Category_1  \\\n",
       "0    0             A       0               0          10                   1   \n",
       "1    4             B       1               1           7                   1   \n",
       "2    2             A       1               1          20                   1   \n",
       "3    5             A       0               0           9                   5   \n",
       "4    5             A       0               0           9                   2   \n",
       "\n",
       "   Product_Category_2  Product_Category_3  Product_ID  Purchase  \\\n",
       "0                   6                  14         394   15200.0   \n",
       "1                   8                  17         287   19215.0   \n",
       "2                   2                   5         214   15665.0   \n",
       "3                   8                  14         366    5378.0   \n",
       "4                   3                   4         521   13055.0   \n",
       "\n",
       "   Stay_In_Current_City_Years  \n",
       "0                           2  \n",
       "1                           2  \n",
       "2                           1  \n",
       "3                           1  \n",
       "4                           1  "
      ]
     },
     "execution_count": 6,
     "metadata": {},
     "output_type": "execute_result"
    }
   ],
   "source": [
    "data.head()"
   ]
  },
  {
   "cell_type": "markdown",
   "metadata": {},
   "source": [
    "**Randomly split the current data frame into 2 subsets for training (80%) and test (20%). Use *random_state = 42*.**"
   ]
  },
  {
   "cell_type": "code",
   "execution_count": 7,
   "metadata": {},
   "outputs": [],
   "source": [
    "from sklearn.model_selection import train_test_split\n",
    "\n",
    "train, test = train_test_split(data, test_size = 0.2, random_state = 42)"
   ]
  },
  {
   "cell_type": "markdown",
   "metadata": {},
   "source": [
    "**Get the list of numerical predictors (all the attributes in the current data frame except the target, `Purchase`) and the list of categorical predictor.**"
   ]
  },
  {
   "cell_type": "code",
   "execution_count": 8,
   "metadata": {},
   "outputs": [],
   "source": [
    "num_attribs = list(data.select_dtypes(include=[np.number]))\n",
    "num_attribs.remove(\"Purchase\")\n",
    "cat_attribs = [\"City_Category\"]"
   ]
  },
  {
   "cell_type": "markdown",
   "metadata": {},
   "source": [
    "**Create a transformation pipeline including two pipelines handling the following**\n",
    "- Numerical *predictors*: apply Standard Scaling\n",
    "- Categorical *predictor*: apply One-hot-encoding\n",
    "\n",
    "You will need to use `ColumnTransformer`."
   ]
  },
  {
   "cell_type": "code",
   "execution_count": 9,
   "metadata": {},
   "outputs": [],
   "source": [
    "from sklearn.pipeline import Pipeline\n",
    "from sklearn.preprocessing import StandardScaler, OneHotEncoder\n",
    "from sklearn.compose import ColumnTransformer\n",
    "\n",
    "full_pipeline = ColumnTransformer([\n",
    "        (\"num\", StandardScaler(), num_attribs),\n",
    "        (\"cat\", OneHotEncoder(), cat_attribs),\n",
    "    ])"
   ]
  },
  {
   "cell_type": "markdown",
   "metadata": {},
   "source": [
    "**Train and use that transformation pipeline to transform the training data (e.g. for a machine learning model).**"
   ]
  },
  {
   "cell_type": "code",
   "execution_count": 10,
   "metadata": {},
   "outputs": [
    {
     "name": "stderr",
     "output_type": "stream",
     "text": [
      "/anaconda3/lib/python3.7/site-packages/sklearn/preprocessing/data.py:625: DataConversionWarning: Data with input dtype int64 were all converted to float64 by StandardScaler.\n",
      "  return self.partial_fit(X, y)\n",
      "/anaconda3/lib/python3.7/site-packages/sklearn/base.py:462: DataConversionWarning: Data with input dtype int64 were all converted to float64 by StandardScaler.\n",
      "  return self.fit(X, **fit_params).transform(X)\n"
     ]
    }
   ],
   "source": [
    "X_train = full_pipeline.fit_transform(train)\n",
    "y_train = train[\"Purchase\"].copy()"
   ]
  },
  {
   "cell_type": "markdown",
   "metadata": {},
   "source": [
    "**Use that transformation pipeline to transform the test data (e.g. for testing a machine learning model).**"
   ]
  },
  {
   "cell_type": "code",
   "execution_count": 11,
   "metadata": {},
   "outputs": [
    {
     "name": "stderr",
     "output_type": "stream",
     "text": [
      "/anaconda3/lib/python3.7/site-packages/sklearn/pipeline.py:605: DataConversionWarning: Data with input dtype int64 were all converted to float64 by StandardScaler.\n",
      "  res = transformer.transform(X)\n"
     ]
    }
   ],
   "source": [
    "X_test = full_pipeline.transform(test)\n",
    "y_test = test[\"Purchase\"].copy()"
   ]
  },
  {
   "cell_type": "markdown",
   "metadata": {},
   "source": [
    "**Build a Linear Regression model using the training data after transformation and test it on the test data. Report the RMSE values on the training and test data.**\n",
    "\n",
    "Document: https://scikit-learn.org/stable/modules/generated/sklearn.linear_model.LinearRegression.html"
   ]
  },
  {
   "cell_type": "code",
   "execution_count": 12,
   "metadata": {},
   "outputs": [
    {
     "name": "stdout",
     "output_type": "stream",
     "text": [
      "Train - RMSE : 4600\n",
      "Test - RMSE : 4616\n"
     ]
    }
   ],
   "source": [
    "from sklearn.linear_model import LinearRegression\n",
    "from sklearn import metrics\n",
    "\n",
    "LR = LinearRegression()\n",
    "LR.fit(X_train, y_train)\n",
    "\n",
    "X_pred = LR.predict(X_train)\n",
    "print(\"Train - RMSE : %.4g\" % np.sqrt(metrics.mean_squared_error(X_pred, y_train)))\n",
    "\n",
    "X_pred = LR.predict(X_test)\n",
    "print(\"Test - RMSE : %.4g\" % np.sqrt(metrics.mean_squared_error(X_pred, y_test)))"
   ]
  },
  {
   "cell_type": "markdown",
   "metadata": {},
   "source": [
    "**Repeat Question 9 using a `KNeighborsRegressor`. Comment on the processing time and performance of the model in this question.**\n",
    "\n",
    "Document: https://scikit-learn.org/stable/modules/generated/sklearn.neighbors.KNeighborsRegressor.html"
   ]
  },
  {
   "cell_type": "code",
   "execution_count": 13,
   "metadata": {},
   "outputs": [
    {
     "name": "stdout",
     "output_type": "stream",
     "text": [
      "Train - RMSE : 2935\n",
      "Test - RMSE : 4211\n"
     ]
    }
   ],
   "source": [
    "import sklearn.neighbors\n",
    "\n",
    "knn_regression_model = sklearn.neighbors.KNeighborsRegressor(n_neighbors=3)\n",
    "knn_regression_model.fit(X_train, y_train)\n",
    "\n",
    "X_pred = knn_regression_model.predict(X_train)\n",
    "print(\"Train - RMSE : %.4g\" % np.sqrt(metrics.mean_squared_error(X_pred, y_train)))\n",
    "\n",
    "X_pred = knn_regression_model.predict(X_test)\n",
    "print(\"Test - RMSE : %.4g\" % np.sqrt(metrics.mean_squared_error(X_pred, y_test)))"
   ]
  },
  {
   "cell_type": "markdown",
   "metadata": {},
   "source": [
    "Compared to Linear Regression, k-NN Regressor is much slower but produces better results."
   ]
  }
 ],
 "metadata": {
  "kernelspec": {
   "display_name": "Python 3",
   "language": "python",
   "name": "python3"
  },
  "language_info": {
   "codemirror_mode": {
    "name": "ipython",
    "version": 3
   },
   "file_extension": ".py",
   "mimetype": "text/x-python",
   "name": "python",
   "nbconvert_exporter": "python",
   "pygments_lexer": "ipython3",
   "version": "3.7.1"
  }
 },
 "nbformat": 4,
 "nbformat_minor": 2
}
