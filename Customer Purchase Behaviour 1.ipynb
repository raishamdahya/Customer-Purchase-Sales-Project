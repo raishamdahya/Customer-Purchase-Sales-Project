{
 "cells": [
  {
   "cell_type": "markdown",
   "metadata": {},
   "source": [
    "## Overview\n",
    "\n",
    "For this course assignment, we were given a sales dataset which contains data on a retail company that wants to understand the customer purchase behaviour (specifically, purchase amount) against various products of different categories. \n",
    "\n",
    "The data set also contains customer demographics (age, gender, marital status, city_type, stay_in_current_city), product details (product_id and product category) and total purchase_amount from last month.\n",
    "\n",
    "The purpose of this assignment is to  build a model to predict the purchase amount of customer against various products which will help the company to create personalized offer for customers against different products."
   ]
  },
  {
   "cell_type": "markdown",
   "metadata": {},
   "source": [
    "## Data\n",
    "\n",
    "| Variable\t                    | Description                                        |\n",
    "|-------------------------------|----------------------------------------------------|\n",
    "|``User_ID``                    |User ID                                             |\n",
    "|``Product_ID``                 |Product ID                                          |\n",
    "|``Gender``                     |Sex of User                                         |\n",
    "|``Age``                        |Age in bins                                         |\n",
    "|``Occupation``                 |Occupation (Masked)                                 |\n",
    "|``City_Category``              |Category of the City (A, B, C)                      |\n",
    "|``Stay_In_Current_City_Years`` |Number of years stay in current city                |\n",
    "|``Marital_Status``             |Marital Status                                      |\n",
    "|``Product_Category_1``         |Product Category (Masked)                           |\n",
    "|``Product_Category_2``         |Product may belongs to other category also (Masked) |\n",
    "|``Product_Category_3``         |Product may belongs to other category also (Masked) |\n",
    "|``Purchase``                   |Purchase Amount (Target Variable)                   |\n",
    "\n",
    "## Evaluation\n",
    "\n",
    "The root mean squared error (RMSE) will be used for model evaluation."
   ]
  },
  {
   "cell_type": "markdown",
   "metadata": {},
   "source": [
    "### Reading in the needed libraries and dataset/s"
   ]
  },
  {
   "cell_type": "code",
   "execution_count": 1,
   "metadata": {},
   "outputs": [],
   "source": [
    "import numpy as np\n",
    "import pandas as pd\n",
    "\n",
    "np.random.seed = 42"
   ]
  },
  {
   "cell_type": "code",
   "execution_count": 2,
   "metadata": {},
   "outputs": [
    {
     "data": {
      "text/html": [
       "<div>\n",
       "<style scoped>\n",
       "    .dataframe tbody tr th:only-of-type {\n",
       "        vertical-align: middle;\n",
       "    }\n",
       "\n",
       "    .dataframe tbody tr th {\n",
       "        vertical-align: top;\n",
       "    }\n",
       "\n",
       "    .dataframe thead th {\n",
       "        text-align: right;\n",
       "    }\n",
       "</style>\n",
       "<table border=\"1\" class=\"dataframe\">\n",
       "  <thead>\n",
       "    <tr style=\"text-align: right;\">\n",
       "      <th></th>\n",
       "      <th>Age</th>\n",
       "      <th>City_Category</th>\n",
       "      <th>Gender</th>\n",
       "      <th>Marital_Status</th>\n",
       "      <th>Occupation</th>\n",
       "      <th>Product_Category_1</th>\n",
       "      <th>Product_Category_2</th>\n",
       "      <th>Product_Category_3</th>\n",
       "      <th>Product_ID</th>\n",
       "      <th>Purchase</th>\n",
       "      <th>Stay_In_Current_City_Years</th>\n",
       "      <th>User_ID</th>\n",
       "    </tr>\n",
       "  </thead>\n",
       "  <tbody>\n",
       "    <tr>\n",
       "      <th>0</th>\n",
       "      <td>0-17</td>\n",
       "      <td>A</td>\n",
       "      <td>F</td>\n",
       "      <td>0</td>\n",
       "      <td>10</td>\n",
       "      <td>1</td>\n",
       "      <td>6</td>\n",
       "      <td>14</td>\n",
       "      <td>394</td>\n",
       "      <td>15200.0</td>\n",
       "      <td>2</td>\n",
       "      <td>1000001</td>\n",
       "    </tr>\n",
       "    <tr>\n",
       "      <th>1</th>\n",
       "      <td>46-50</td>\n",
       "      <td>B</td>\n",
       "      <td>M</td>\n",
       "      <td>1</td>\n",
       "      <td>7</td>\n",
       "      <td>1</td>\n",
       "      <td>8</td>\n",
       "      <td>17</td>\n",
       "      <td>287</td>\n",
       "      <td>19215.0</td>\n",
       "      <td>2</td>\n",
       "      <td>1000004</td>\n",
       "    </tr>\n",
       "    <tr>\n",
       "      <th>2</th>\n",
       "      <td>26-35</td>\n",
       "      <td>A</td>\n",
       "      <td>M</td>\n",
       "      <td>1</td>\n",
       "      <td>20</td>\n",
       "      <td>1</td>\n",
       "      <td>2</td>\n",
       "      <td>5</td>\n",
       "      <td>214</td>\n",
       "      <td>15665.0</td>\n",
       "      <td>1</td>\n",
       "      <td>1000005</td>\n",
       "    </tr>\n",
       "    <tr>\n",
       "      <th>3</th>\n",
       "      <td>51-55</td>\n",
       "      <td>A</td>\n",
       "      <td>F</td>\n",
       "      <td>0</td>\n",
       "      <td>9</td>\n",
       "      <td>5</td>\n",
       "      <td>8</td>\n",
       "      <td>14</td>\n",
       "      <td>366</td>\n",
       "      <td>5378.0</td>\n",
       "      <td>1</td>\n",
       "      <td>1000006</td>\n",
       "    </tr>\n",
       "    <tr>\n",
       "      <th>4</th>\n",
       "      <td>51-55</td>\n",
       "      <td>A</td>\n",
       "      <td>F</td>\n",
       "      <td>0</td>\n",
       "      <td>9</td>\n",
       "      <td>2</td>\n",
       "      <td>3</td>\n",
       "      <td>4</td>\n",
       "      <td>521</td>\n",
       "      <td>13055.0</td>\n",
       "      <td>1</td>\n",
       "      <td>1000006</td>\n",
       "    </tr>\n",
       "  </tbody>\n",
       "</table>\n",
       "</div>"
      ],
      "text/plain": [
       "     Age City_Category Gender  Marital_Status  Occupation  Product_Category_1  \\\n",
       "0   0-17             A      F               0          10                   1   \n",
       "1  46-50             B      M               1           7                   1   \n",
       "2  26-35             A      M               1          20                   1   \n",
       "3  51-55             A      F               0           9                   5   \n",
       "4  51-55             A      F               0           9                   2   \n",
       "\n",
       "   Product_Category_2  Product_Category_3  Product_ID  Purchase  \\\n",
       "0                   6                  14         394   15200.0   \n",
       "1                   8                  17         287   19215.0   \n",
       "2                   2                   5         214   15665.0   \n",
       "3                   8                  14         366    5378.0   \n",
       "4                   3                   4         521   13055.0   \n",
       "\n",
       "  Stay_In_Current_City_Years  User_ID  \n",
       "0                          2  1000001  \n",
       "1                          2  1000004  \n",
       "2                          1  1000005  \n",
       "3                          1  1000006  \n",
       "4                          1  1000006  "
      ]
     },
     "execution_count": 2,
     "metadata": {},
     "output_type": "execute_result"
    }
   ],
   "source": [
    "data = pd.read_csv(\"sales_data.csv\")\n",
    "data.head()"
   ]
  },
  {
   "cell_type": "markdown",
   "metadata": {},
   "source": [
    "**Randomly splitting the given data into 2 subsets for training (80%) and test (20%). Using *random_state = 42*.** "
   ]
  },
  {
   "cell_type": "code",
   "execution_count": 3,
   "metadata": {},
   "outputs": [],
   "source": [
    "from sklearn.model_selection import train_test_split\n",
    "\n",
    "train, test = train_test_split(data, test_size = 0.2, random_state = 42)"
   ]
  },
  {
   "cell_type": "markdown",
   "metadata": {},
   "source": [
    "**Saving the 2 subsets to 2 CSV files: ``sales_train.csv`` and ``sales_test.csv``.**"
   ]
  },
  {
   "cell_type": "code",
   "execution_count": 4,
   "metadata": {},
   "outputs": [],
   "source": [
    "train.to_csv('sales_train.csv', index=False)\n",
    "test.to_csv('sales_test.csv', index=False)"
   ]
  },
  {
   "cell_type": "markdown",
   "metadata": {},
   "source": [
    "**Reloading the two newly created CSV files into 2 dataframes ``train`` and ``test``.**"
   ]
  },
  {
   "cell_type": "code",
   "execution_count": 5,
   "metadata": {},
   "outputs": [],
   "source": [
    "train = pd.read_csv(\"sales_train.csv\")\n",
    "test = pd.read_csv(\"sales_test.csv\")"
   ]
  },
  {
   "cell_type": "markdown",
   "metadata": {},
   "source": [
    "**Converting all category data in ``train`` and ``test`` into numerical data.**"
   ]
  },
  {
   "cell_type": "code",
   "execution_count": 6,
   "metadata": {},
   "outputs": [],
   "source": [
    "def cat_to_num(df, cat_name, cat_dict):\n",
    "    df[cat_name] = df[cat_name].apply(lambda line: cat_dict[line])\n",
    "\n",
    "cat_to_num(train, 'Gender', {'F':0, 'M':1})\n",
    "cat_to_num(train, 'Age', {'0-17':0, '18-25':1, '26-35':2, '36-45':3, '46-50':4, '51-55':5, '55+':6})\n",
    "cat_to_num(train, 'City_Category', {'A':0, 'B':1, 'C':2})\n",
    "cat_to_num(train, 'Stay_In_Current_City_Years', {'0':0, '1':1, '2':2, '3':3, '4+':4})\n",
    "\n",
    "cat_to_num(test, 'Gender', {'F':0, 'M':1})\n",
    "cat_to_num(test, 'Age', {'0-17':0, '18-25':1, '26-35':2, '36-45':3, '46-50':4, '51-55':5, '55+':6})\n",
    "cat_to_num(test, 'City_Category', {'A':0, 'B':1, 'C':2})\n",
    "cat_to_num(test, 'Stay_In_Current_City_Years', {'0':0, '1':1, '2':2, '3':3, '4+':4})\n",
    "\n",
    "# You can use LabelEncoder in sklearn.preprocessing as well"
   ]
  },
  {
   "cell_type": "markdown",
   "metadata": {},
   "source": [
    "**Building a Linear Regression model using ``train`` and all the columns except ``User_ID`` and ``Purchase`` as the predictors. Report RMSE values on the training and test sets.**\n",
    "\n",
    "Document: https://scikit-learn.org/stable/modules/generated/sklearn.linear_model.LinearRegression.html"
   ]
  },
  {
   "cell_type": "code",
   "execution_count": 7,
   "metadata": {},
   "outputs": [],
   "source": [
    "from sklearn import metrics\n",
    "\n",
    "def fit_model(algo, dtrain, dtest, predictors, target):\n",
    "    algo.fit(dtrain[predictors], dtrain[target])\n",
    "        \n",
    "    dtrain_predictions = algo.predict(dtrain[predictors])\n",
    "    print(\"Train - RMSE : %.4g\" % np.sqrt(metrics.mean_squared_error((dtrain[target]).values, dtrain_predictions)))\n",
    "    \n",
    "    dtest_predictions = algo.predict(dtest[predictors])\n",
    "    print(\"Test - RMSE : %.4g\" % np.sqrt(metrics.mean_squared_error((dtest[target]).values, dtest_predictions)))"
   ]
  },
  {
   "cell_type": "code",
   "execution_count": 8,
   "metadata": {},
   "outputs": [
    {
     "name": "stdout",
     "output_type": "stream",
     "text": [
      "['Age', 'City_Category', 'Gender', 'Marital_Status', 'Occupation', 'Product_Category_1', 'Product_Category_2', 'Product_Category_3', 'Product_ID', 'Stay_In_Current_City_Years']\n"
     ]
    }
   ],
   "source": [
    "target = 'Purchase'\n",
    "\n",
    "predictors = list(train.columns)\n",
    "predictors.remove('Purchase')\n",
    "predictors.remove('User_ID')\n",
    "print(predictors)"
   ]
  },
  {
   "cell_type": "code",
   "execution_count": 9,
   "metadata": {},
   "outputs": [
    {
     "name": "stdout",
     "output_type": "stream",
     "text": [
      "Train - RMSE : 4601\n",
      "Test - RMSE : 4617\n"
     ]
    }
   ],
   "source": [
    "from sklearn.linear_model import LinearRegression\n",
    "LR = LinearRegression()\n",
    "fit_model(LR, train, test, predictors, target)"
   ]
  },
  {
   "cell_type": "markdown",
   "metadata": {},
   "source": [
    "**Building a Decision Tree Regressor with default parameters using train and all the columns except ``User_ID`` and ``Purchase`` as the predictors. Report RMSE values on the training and test sets.**\n",
    "\n",
    "Document: https://scikit-learn.org/stable/modules/generated/sklearn.tree.DecisionTreeRegressor.html#sklearn.tree.DecisionTreeRegressor"
   ]
  },
  {
   "cell_type": "code",
   "execution_count": 10,
   "metadata": {},
   "outputs": [
    {
     "name": "stdout",
     "output_type": "stream",
     "text": [
      "Train - RMSE : 1244\n",
      "Test - RMSE : 4481\n"
     ]
    }
   ],
   "source": [
    "from sklearn.tree import DecisionTreeRegressor\n",
    "DT = DecisionTreeRegressor()\n",
    "fit_model(DT, train, test, predictors, target)"
   ]
  },
  {
   "cell_type": "markdown",
   "metadata": {},
   "source": [
    "**Using RandomizedSearchCV to tune parameters ``max_depth``, ``min_samples_split``, ``min_samples_leaf`` and ``max_features`` of the Decision Tree Regressor in order to obtain a lower RMSE value on the test set compared to that in part 6.**\n",
    "\n",
    "Documents:\n",
    "\n",
    "https://scikit-learn.org/stable/modules/generated/sklearn.model_selection.RandomizedSearchCV.html\n",
    "https://scikit-learn.org/stable/modules/model_evaluation.html#scoring-parameter\n",
    "https://scikit-learn.org/stable/auto_examples/model_selection/plot_randomized_search.html#sphx-glr-auto-examples-model-selection-plot-randomized-search-py"
   ]
  },
  {
   "cell_type": "code",
   "execution_count": 11,
   "metadata": {},
   "outputs": [
    {
     "data": {
      "text/plain": [
       "RandomizedSearchCV(cv=5, error_score='raise-deprecating',\n",
       "          estimator=DecisionTreeRegressor(criterion='mse', max_depth=None, max_features=None,\n",
       "           max_leaf_nodes=None, min_impurity_decrease=0.0,\n",
       "           min_impurity_split=None, min_samples_leaf=1,\n",
       "           min_samples_split=2, min_weight_fraction_leaf=0.0,\n",
       "           presort=False, random_state=None, splitter='best'),\n",
       "          fit_params=None, iid='warn', n_iter=100, n_jobs=None,\n",
       "          param_distributions={'max_depth': [10, 20, 30, None], 'min_samples_split': array([0.1, 0.2, 0.3, 0.4, 0.5, 0.6, 0.7, 0.8, 0.9, 1. ]), 'min_samples_leaf': array([0.1, 0.2, 0.3, 0.4, 0.5]), 'max_features': [1, 2, 3, 4, 5, 6, 7, 8, 9]},\n",
       "          pre_dispatch='2*n_jobs', random_state=42, refit=True,\n",
       "          return_train_score='warn', scoring='neg_mean_squared_error',\n",
       "          verbose=0)"
      ]
     },
     "execution_count": 11,
     "metadata": {},
     "output_type": "execute_result"
    }
   ],
   "source": [
    "from sklearn.model_selection import RandomizedSearchCV\n",
    "\n",
    "param_dist = {\"max_depth\": [10, 20, 30, None],\n",
    "              \"min_samples_split\": np.linspace(0.1, 1.0, 10, endpoint=True),\n",
    "              \"min_samples_leaf\": np.linspace(0.1, 0.5, 5, endpoint=True),\n",
    "              \"max_features\": list(range(1,len(predictors)))}\n",
    "\n",
    "random_search = RandomizedSearchCV(DT, param_distributions=param_dist, n_iter=100, cv=5,\n",
    "                                   scoring='neg_mean_squared_error', random_state=42)\n",
    "\n",
    "random_search.fit(train[predictors], train[target])"
   ]
  },
  {
   "cell_type": "code",
   "execution_count": 12,
   "metadata": {},
   "outputs": [
    {
     "data": {
      "text/plain": [
       "{'min_samples_split': 0.2,\n",
       " 'min_samples_leaf': 0.1,\n",
       " 'max_features': 6,\n",
       " 'max_depth': 10}"
      ]
     },
     "execution_count": 12,
     "metadata": {},
     "output_type": "execute_result"
    }
   ],
   "source": [
    "random_search.best_params_"
   ]
  },
  {
   "cell_type": "code",
   "execution_count": 13,
   "metadata": {},
   "outputs": [
    {
     "name": "stdout",
     "output_type": "stream",
     "text": [
      "Train - RMSE : 4276\n"
     ]
    }
   ],
   "source": [
    "train_predictions = random_search.best_estimator_.predict(train[predictors])\n",
    "print(\"Train - RMSE : %.4g\" % np.sqrt(metrics.mean_squared_error((train[target]).values, train_predictions)))"
   ]
  },
  {
   "cell_type": "code",
   "execution_count": 14,
   "metadata": {},
   "outputs": [
    {
     "name": "stdout",
     "output_type": "stream",
     "text": [
      "Test - RMSE : 4286\n"
     ]
    }
   ],
   "source": [
    "test_predictions = random_search.best_estimator_.predict(test[predictors])\n",
    "print(\"Test - RMSE : %.4g\" % np.sqrt(metrics.mean_squared_error((test[target]).values, test_predictions)))"
   ]
  },
  {
   "cell_type": "code",
   "execution_count": 16,
   "metadata": {},
   "outputs": [
    {
     "data": {
      "text/plain": [
       "(133456, 10)"
      ]
     },
     "execution_count": 16,
     "metadata": {},
     "output_type": "execute_result"
    }
   ],
   "source": [
    "train[predictors].shape"
   ]
  }
 ],
 "metadata": {
  "kernelspec": {
   "display_name": "Python 3",
   "language": "python",
   "name": "python3"
  },
  "language_info": {
   "codemirror_mode": {
    "name": "ipython",
    "version": 3
   },
   "file_extension": ".py",
   "mimetype": "text/x-python",
   "name": "python",
   "nbconvert_exporter": "python",
   "pygments_lexer": "ipython3",
   "version": "3.7.1"
  }
 },
 "nbformat": 4,
 "nbformat_minor": 2
}
